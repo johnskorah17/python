{
  "nbformat": 4,
  "nbformat_minor": 0,
  "metadata": {
    "colab": {
      "name": "labCycle3.ipynb",
      "provenance": [],
      "collapsed_sections": []
    },
    "kernelspec": {
      "name": "python3",
      "display_name": "Python 3"
    }
  },
  "cells": [
    {
      "cell_type": "code",
      "metadata": {
        "colab": {
          "base_uri": "https://localhost:8080/"
        },
        "id": "teQTOclhywOm",
        "outputId": "444e44ac-255a-4ea8-f3a1-9ceac9fe83ca"
      },
      "source": [
        "num=int(input(\"enter the number\"))\r\n",
        "\r\n",
        "factorial = 1\r\n",
        "\r\n",
        "# check if the number is negative, positive or zero\r\n",
        "if num < 0:\r\n",
        "   print(\"Sorry, factorial does not exist for negative numbers\")\r\n",
        "elif num == 0:\r\n",
        "   print(\"The factorial of 0 is 1\")\r\n",
        "else:\r\n",
        "   for i in range(1,num + 1):\r\n",
        "       factorial = factorial*i\r\n",
        "   print(\"The factorial of\",num,\"is\",factorial)"
      ],
      "execution_count": 1,
      "outputs": [
        {
          "output_type": "stream",
          "text": [
            "enter the number9\n",
            "The factorial of 9 is 362880\n"
          ],
          "name": "stdout"
        }
      ]
    },
    {
      "cell_type": "code",
      "metadata": {
        "colab": {
          "base_uri": "https://localhost:8080/"
        },
        "id": "H0NGzJXBzQiT",
        "outputId": "200efc33-5523-471b-ffc5-b8adb5e257cb"
      },
      "source": [
        "nterms = int(input(\"How many terms? \"))\r\n",
        "\r\n",
        "# first two terms\r\n",
        "n1, n2 = 0, 1\r\n",
        "count = 0\r\n",
        "\r\n",
        "# check if the number of terms is valid\r\n",
        "if nterms <= 0:\r\n",
        "   print(\"Please enter a positive integer\")\r\n",
        "elif nterms == 1:\r\n",
        "   print(\"Fibonacci sequence upto\",nterms,\":\")\r\n",
        "   print(n1)\r\n",
        "else:\r\n",
        "   print(\"Fibonacci sequence:\")\r\n",
        "   while count < nterms:\r\n",
        "       print(n1)\r\n",
        "       nth = n1 + n2\r\n",
        "       # update values\r\n",
        "       n1 = n2\r\n",
        "       n2 = nth\r\n",
        "       count += 1"
      ],
      "execution_count": 3,
      "outputs": [
        {
          "output_type": "stream",
          "text": [
            "How many terms? 5\n",
            "Fibonacci sequence:\n",
            "0\n",
            "1\n",
            "1\n",
            "2\n",
            "3\n"
          ],
          "name": "stdout"
        }
      ]
    },
    {
      "cell_type": "code",
      "metadata": {
        "colab": {
          "base_uri": "https://localhost:8080/"
        },
        "id": "1XwvzOgVzkXk",
        "outputId": "ad4dc658-e692-4372-9c33-a092600ca4bd"
      },
      "source": [
        "# Python program to find sum of elements in list\r\n",
        "total = 0\r\n",
        " \r\n",
        "# creating a list\r\n",
        "list1 = [11, 5, 17, 18, 23] \r\n",
        " \r\n",
        "# Iterate each element in list\r\n",
        "# and add them in variale total\r\n",
        "for ele in range(0, len(list1)):\r\n",
        "    total = total + list1[ele]\r\n",
        " \r\n",
        "# printing total value\r\n",
        "print(\"Sum of all elements in given list: \", total)"
      ],
      "execution_count": 5,
      "outputs": [
        {
          "output_type": "stream",
          "text": [
            "Sum of all elements in given list:  74\n"
          ],
          "name": "stdout"
        }
      ]
    },
    {
      "cell_type": "code",
      "metadata": {
        "colab": {
          "base_uri": "https://localhost:8080/"
        },
        "id": "Naa19aVcz2Hw",
        "outputId": "97bb97fc-2250-4540-9d31-67ee4e04e98a"
      },
      "source": [
        "row = int(input('Enter how many lines? '))\r\n",
        "\r\n",
        "# Generating pattern\r\n",
        "for i in range(1,row+1):\r\n",
        "    \r\n",
        "    # for space\r\n",
        "    for j in range(1, row+1-i):\r\n",
        "        print(' ', end='')\r\n",
        "    \r\n",
        "    # for increasing pattern\r\n",
        "    for j in range(1,i+1):\r\n",
        "        print(j, end='')\r\n",
        "    \r\n",
        "    # for decreasing pattern \r\n",
        "    for j in range(i-1,0,-1):\r\n",
        "        print(j, end='')\r\n",
        "    \r\n",
        "    # Moving to next line\r\n",
        "    print()"
      ],
      "execution_count": 7,
      "outputs": [
        {
          "output_type": "stream",
          "text": [
            "Enter how many lines? 6\n",
            "     1\n",
            "    121\n",
            "   12321\n",
            "  1234321\n",
            " 123454321\n",
            "12345654321\n"
          ],
          "name": "stdout"
        }
      ]
    },
    {
      "cell_type": "code",
      "metadata": {
        "colab": {
          "base_uri": "https://localhost:8080/"
        },
        "id": "l3WIiR9b0oxx",
        "outputId": "f876b88a-217c-443d-c78c-18de9100824f"
      },
      "source": [
        "def char_frequency(str1):\r\n",
        "    dict = {}\r\n",
        "    for n in str1:\r\n",
        "        keys = dict.keys()\r\n",
        "        if n in keys:\r\n",
        "            dict[n] += 1\r\n",
        "        else:\r\n",
        "            dict[n] = 1\r\n",
        "    return dict\r\n",
        "print(char_frequency('google.com'))"
      ],
      "execution_count": 8,
      "outputs": [
        {
          "output_type": "stream",
          "text": [
            "{'g': 2, 'o': 3, 'l': 1, 'e': 1, '.': 1, 'c': 1, 'm': 1}\n"
          ],
          "name": "stdout"
        }
      ]
    },
    {
      "cell_type": "code",
      "metadata": {
        "colab": {
          "base_uri": "https://localhost:8080/"
        },
        "id": "YaEkD-xx1hgP",
        "outputId": "8a3aaffe-fb5b-43bf-b16f-e13f9a8857e1"
      },
      "source": [
        "print(\"Print equilateral triangle Pyramid using stars \")\r\n",
        "size = 7\r\n",
        "m = (2 * size) - 2\r\n",
        "for i in range(0, size):\r\n",
        "    for j in range(0, m):\r\n",
        "        print(end=\" \")\r\n",
        "    m = m - 1  # decrementing m after each loop\r\n",
        "    for j in range(0, i + 1):\r\n",
        "        # printing full Triangle pyramid using stars\r\n",
        "        print(\"* \", end=' ')\r\n",
        "    print(\" \")"
      ],
      "execution_count": 9,
      "outputs": [
        {
          "output_type": "stream",
          "text": [
            "Print equilateral triangle Pyramid using stars \n",
            "            *   \n",
            "           *  *   \n",
            "          *  *  *   \n",
            "         *  *  *  *   \n",
            "        *  *  *  *  *   \n",
            "       *  *  *  *  *  *   \n",
            "      *  *  *  *  *  *  *   \n"
          ],
          "name": "stdout"
        }
      ]
    },
    {
      "cell_type": "code",
      "metadata": {
        "colab": {
          "base_uri": "https://localhost:8080/"
        },
        "id": "HMXC-wAY2VQl",
        "outputId": "3705cfd8-fa10-4512-b439-60d2c5708f82"
      },
      "source": [
        "# Python Program to find the factors of a number\r\n",
        "\r\n",
        "# This function computes the factor of the argument passed\r\n",
        "def print_factors(x):\r\n",
        "   print(\"The factors of\",x,\"are:\")\r\n",
        "   for i in range(1, x + 1):\r\n",
        "       if x % i == 0:\r\n",
        "           print(i)\r\n",
        "\r\n",
        "num = 9\r\n",
        "\r\n",
        "print_factors(num)"
      ],
      "execution_count": 12,
      "outputs": [
        {
          "output_type": "stream",
          "text": [
            "The factors of 9 are:\n",
            "1\n",
            "3\n",
            "9\n"
          ],
          "name": "stdout"
        }
      ]
    },
    {
      "cell_type": "code",
      "metadata": {
        "colab": {
          "base_uri": "https://localhost:8080/"
        },
        "id": "6yjyLo-O3bo_",
        "outputId": "5ddb4c62-841b-432a-a9c8-08b5ca85d513"
      },
      "source": [
        "import math\r\n",
        "t_peri =lambda p,q,r :p+q+r\r\n",
        "r_area=lambda len,ht :len*ht \r\n",
        "c_peri=lambda rad :2*math.pi*rad \r\n",
        "c_area=lambda rad :math.pi*rad*rad \r\n",
        "\r\n",
        "print(\"perimeter of triangle (10,20,15) is \",t_peri(10,20,15))\r\n",
        "print(\"area of rectangle (30,20) is\",r_area(30,20))\r\n",
        "print(\"perimeter of circle (10) is:\",c_peri(10))\r\n",
        "print(\"area of circle (15) is: \",c_area(15))\r\n"
      ],
      "execution_count": 13,
      "outputs": [
        {
          "output_type": "stream",
          "text": [
            "perimeter of triangle (10,20,15) is  45\n",
            "area of rectangle (30,20) is 600\n",
            "perimeter of circle (10) is: 62.83185307179586\n",
            "area of circle (15) is:  706.8583470577034\n"
          ],
          "name": "stdout"
        }
      ]
    },
    {
      "cell_type": "code",
      "metadata": {
        "colab": {
          "base_uri": "https://localhost:8080/"
        },
        "id": "XHXiTq8U6Kd9",
        "outputId": "4e60c48f-4038-4039-c6c9-d2c0041c73e9"
      },
      "source": [
        "# function to find the longest \r\n",
        "# length in the list \r\n",
        "def longestLength(a): \r\n",
        "    max1 = len(a[0]) \r\n",
        "    temp = a[0] \r\n",
        "  \r\n",
        "    # for loop to traverse the list \r\n",
        "    for i in a: \r\n",
        "        if(len(i) > max1): \r\n",
        "  \r\n",
        "            max1 = len(i) \r\n",
        "            temp = i \r\n",
        "  \r\n",
        "    print(\"The word with the longest length is:\", temp, \r\n",
        "          \" and length is \", max1) \r\n",
        "  \r\n",
        "  \r\n",
        "# Driver Program \r\n",
        "a = input(\"Enter a list elements separated by space \")\r\n",
        "\r\n",
        "a = a.split() \r\n",
        "longestLength(a) "
      ],
      "execution_count": 15,
      "outputs": [
        {
          "output_type": "stream",
          "text": [
            "Enter a list elements separated by space manchester city is unbeatable under pep quardialo\n",
            "The word with the longest length is: manchester  and length is  10\n"
          ],
          "name": "stdout"
        }
      ]
    }
  ]
}