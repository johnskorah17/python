{
  "nbformat": 4,
  "nbformat_minor": 0,
  "metadata": {
    "colab": {
      "name": "python Cycle-2(2).ipynb",
      "provenance": [],
      "collapsed_sections": []
    },
    "kernelspec": {
      "name": "python3",
      "display_name": "Python 3"
    }
  },
  "cells": [
    {
      "cell_type": "code",
      "metadata": {
        "colab": {
          "base_uri": "https://localhost:8080/"
        },
        "id": "DB-BUpeaQkLP",
        "outputId": "92026bbc-2351-4e82-fd5e-f14acf23d5c8"
      },
      "source": [
        "n1=float(input(\"enter the first value : \"))\r\n",
        "n2=float(input(\"enter the second value : \"))\r\n",
        "x=n1\r\n",
        "y=n2\r\n",
        "while (n2 != 0):\r\n",
        "  temp=n2\r\n",
        "  n2=n1%n2\r\n",
        "  n1=temp\r\n",
        "gcd=n1   \r\n",
        "print(\"GCD of\",x,\"and\",y,\"is\",gcd)\r\n"
      ],
      "execution_count": 1,
      "outputs": [
        {
          "output_type": "stream",
          "text": [
            "enter the first value : 5\n",
            "enter the second value : 3\n",
            "GCD of 5.0 and 3.0 is 1.0\n"
          ],
          "name": "stdout"
        }
      ]
    },
    {
      "cell_type": "code",
      "metadata": {
        "colab": {
          "base_uri": "https://localhost:8080/"
        },
        "id": "tcm6j4klQzsC",
        "outputId": "452b62f8-1448-433d-a1e9-9dda237aa3bc"
      },
      "source": [
        "x=[]\r\n",
        "n=int(input(\"enter list items : \"))\r\n",
        "for i in range(1,n+1):\r\n",
        "    a=int(input(\"enter the value of %d item : \"%i))\r\n",
        "    x.append(a)\r\n",
        "for i  in x:\r\n",
        "  if (i%2 == 0):\r\n",
        "    x.remove(i)\r\n",
        "print(\"modified list after removing even numbers :\")\r\n",
        "print(x)\r\n",
        "\r\n",
        "\r\n"
      ],
      "execution_count": 2,
      "outputs": [
        {
          "output_type": "stream",
          "text": [
            "enter list items : 2\n",
            "enter the value of 1 item : 14\n",
            "enter the value of 2 item : 10\n",
            "modified list after removing even numbers :\n",
            "[10]\n"
          ],
          "name": "stdout"
        }
      ]
    },
    {
      "cell_type": "code",
      "metadata": {
        "colab": {
          "base_uri": "https://localhost:8080/"
        },
        "id": "Onn-AfozRTjX",
        "outputId": "1d2c5237-a311-417f-f50e-57d405caff76"
      },
      "source": [
        "k1=input(\"enter first key : \")\r\n",
        "k2=input(\"enter second key : \")\r\n",
        "k3=input(\"enter third key : \")\r\n",
        "k4=input(\"enter fourth key : \")\r\n",
        "k5=input(\"enter fifth key : \")\r\n",
        "v1=input(\"enter first value : \")\r\n",
        "v2=input(\"enter second value : \")\r\n",
        "v3=input(\"enter third value : \")\r\n",
        "v4=input(\"enter fourth value : \")\r\n",
        "v5=input(\"enter fifth value : \")\r\n",
        "d={}\r\n",
        "d[k1]=v1\r\n",
        "d[k2]=v2\r\n",
        "d[k3]=v3\r\n",
        "d[k4]=v4\r\n",
        "d[k5]=v5\r\n",
        "l=list(d.items())   \r\n",
        "l.sort() \r\n",
        "print(\"ascending order is : \",l)\r\n",
        "l=list(d.items())\r\n",
        "l.sort(reverse = True)\r\n",
        "print(\"descending order is : \",l)\r\n",
        "\r\n"
      ],
      "execution_count": 3,
      "outputs": [
        {
          "output_type": "stream",
          "text": [
            "enter first key : 1\n",
            "enter second key : 3\n",
            "enter third key : 4\n",
            "enter fourth key : 5\n",
            "enter fifth key : 2\n",
            "enter first value : man\n",
            "enter second value : women\n",
            "enter third value : boy\n",
            "enter fourth value : girl\n",
            "enter fifth value : child\n",
            "ascending order is :  [('1', 'man'), ('2', 'child'), ('3', 'women'), ('4', 'boy'), ('5', 'girl')]\n",
            "descending order is :  [('5', 'girl'), ('4', 'boy'), ('3', 'women'), ('2', 'child'), ('1', 'man')]\n"
          ],
          "name": "stdout"
        }
      ]
    },
    {
      "cell_type": "code",
      "metadata": {
        "colab": {
          "base_uri": "https://localhost:8080/"
        },
        "id": "wLrhrvzySTLb",
        "outputId": "804df304-499e-41a3-d3e8-770ba01beac7"
      },
      "source": [
        "\r\n",
        "x=input(\"enter the first string : \")\r\n",
        "y=input(\"enter the second string : \")\r\n",
        "def swapch(x,y): \r\n",
        "  a = y[:1] + x[1:]\r\n",
        "  b = x[:1] + y[1:]\r\n",
        "  return a + ' ' + b\r\n",
        "print(swapch(x,y))\r\n"
      ],
      "execution_count": 4,
      "outputs": [
        {
          "output_type": "stream",
          "text": [
            "enter the first string : london\n",
            "enter the second string : manchester\n",
            "mondon lanchester\n"
          ],
          "name": "stdout"
        }
      ]
    },
    {
      "cell_type": "code",
      "metadata": {
        "colab": {
          "base_uri": "https://localhost:8080/"
        },
        "id": "Lxw74rRtSsvN",
        "outputId": "4c1ae02c-d43e-425c-b3b1-3217b615e770"
      },
      "source": [
        "c1=[]\r\n",
        "x=int(input(\"enter limit for list1 :\"))\r\n",
        "for i in range(1,x+1):\r\n",
        "  a=input()\r\n",
        "  c1.append(a)\r\n",
        "  p=set(c1)\r\n",
        "print(p)\r\n",
        "c2=[]\r\n",
        "y=int(input(\"enter limit for list2 : \"))\r\n",
        "for i in range(1,y+1):\r\n",
        "  b=input()\r\n",
        "  c2.append(b)\r\n",
        "  q=set(c2)\r\n",
        "print(q)\r\n",
        "print(p.difference(q))\r\n"
      ],
      "execution_count": 5,
      "outputs": [
        {
          "output_type": "stream",
          "text": [
            "enter limit for list1 :2\n",
            "yellow\n",
            "green\n",
            "{'green', 'yellow'}\n",
            "enter limit for list2 : 3\n",
            "red\n",
            "blue\n",
            "black\n",
            "{'black', 'red', 'blue'}\n",
            "{'green', 'yellow'}\n"
          ],
          "name": "stdout"
        }
      ]
    },
    {
      "cell_type": "code",
      "metadata": {
        "colab": {
          "base_uri": "https://localhost:8080/"
        },
        "id": "NLeNJ5COTrny",
        "outputId": "eeaacf9a-46cd-4efe-8ae8-8ad0b6dc0b59"
      },
      "source": [
        "a=int(input(\"enter any integer : \"))\r\n",
        "n1=int(\"%s\" %a)\r\n",
        "n2=int(\"%s%s\" %(a,a))\r\n",
        "n3=int(\"%s%s%s\" %(a,a,a))\r\n",
        "print(\"value of n+nn+nnn is : \",n1+n2+n3)\r\n"
      ],
      "execution_count": 7,
      "outputs": [
        {
          "output_type": "stream",
          "text": [
            "enter any integer : 2\n",
            "value of n+nn+nnn is :  246\n"
          ],
          "name": "stdout"
        }
      ]
    },
    {
      "cell_type": "code",
      "metadata": {
        "colab": {
          "base_uri": "https://localhost:8080/"
        },
        "id": "fFp_3lFtUghC",
        "outputId": "89739086-c441-4580-a9b2-6ead7c173a77"
      },
      "source": [
        "c=[]\r\n",
        "x=int(input(\"enter limit for list : \"))\r\n",
        "for i in range(1,x+1):\r\n",
        "  a=input()\r\n",
        "  c.append(a)\r\n",
        "print(c)\r\n",
        "print(c[0],c[-1])\r\n"
      ],
      "execution_count": 8,
      "outputs": [
        {
          "output_type": "stream",
          "text": [
            "enter limit for list : 2\n",
            "4\n",
            "2\n",
            "['4', '2']\n",
            "4 2\n"
          ],
          "name": "stdout"
        }
      ]
    },
    {
      "cell_type": "code",
      "metadata": {
        "colab": {
          "base_uri": "https://localhost:8080/"
        },
        "id": "40Zsmg4rVAek",
        "outputId": "217a95e3-604b-4e24-908d-27c618d9b01b"
      },
      "source": [
        "str=input(\"enter any string : \")\r\n",
        "def rep_ch(str1):\r\n",
        "  char=str1[0]\r\n",
        "  str1=str1.replace(char, '$')\r\n",
        "  str1=char+str1[1:]\r\n",
        "  return str1\r\n",
        "print(rep_ch(str))\r\n"
      ],
      "execution_count": 9,
      "outputs": [
        {
          "output_type": "stream",
          "text": [
            "enter any string : lionel messi is a GOAT\n",
            "lione$ messi is a GOAT\n"
          ],
          "name": "stdout"
        }
      ]
    },
    {
      "cell_type": "code",
      "metadata": {
        "colab": {
          "base_uri": "https://localhost:8080/"
        },
        "id": "1TMJw9AvVVIT",
        "outputId": "6ab6e50b-2206-4469-8ade-abe10e1e1849"
      },
      "source": [
        "x=[]\r\n",
        "a=int(input(\"enter limit for list1 : \"))\r\n",
        "for i in range(1,a+1):\r\n",
        "  a=int(input())\r\n",
        "  x.append(a)\r\n",
        "print(x)\r\n",
        "y=[]\r\n",
        "b=int(input(\"enter limit for list2 : \"))\r\n",
        "for i in range(1,b+1):\r\n",
        "  b=int(input())\r\n",
        "  y.append(b)\r\n",
        "print(y)\r\n",
        "if (len(x)==len(y)):\r\n",
        "  print(\"list1 and list2 are of same length i.e.\",len(x))\r\n",
        "else:\r\n",
        "  print(\"list1 and list2 are of different length.\")\r\n",
        "if (sum(x)==sum(y)):\r\n",
        "  print(\"list1 and list2 sums to the same value i.e.\",sum(x))\r\n",
        "else:\r\n",
        "  print(\"list1 and list2 sums up to different values.\")\r\n",
        "def common(x, y): \r\n",
        "    p=set(x) \r\n",
        "    q=set(y) \r\n",
        "    if len(p.intersection(q)) > 0: \r\n",
        "        return(p.intersection(q))   \r\n",
        "    else: \r\n",
        "        return(\"no common elements\")  \r\n",
        "print(\"value that occur in both lists is/are :\",common(x,y)) \r\n",
        "2"
      ],
      "execution_count": 12,
      "outputs": [
        {
          "output_type": "stream",
          "text": [
            "enter limit for list1 : 2\n",
            "9\n",
            "6\n",
            "[9, 6]\n",
            "enter limit for list2 : 2\n",
            "8\n",
            "4\n",
            "[8, 4]\n",
            "list1 and list2 are of same length i.e. 2\n",
            "list1 and list2 sums up to different values.\n",
            "value that occur in both lists is/are : no common elements\n"
          ],
          "name": "stdout"
        },
        {
          "output_type": "execute_result",
          "data": {
            "text/plain": [
              "2"
            ]
          },
          "metadata": {
            "tags": []
          },
          "execution_count": 12
        }
      ]
    },
    {
      "cell_type": "code",
      "metadata": {
        "colab": {
          "base_uri": "https://localhost:8080/"
        },
        "id": "wm6eiNBmVy-j",
        "outputId": "bd67ddbc-0e62-4cf5-a708-a3882954ddcb"
      },
      "source": [
        "\r\n",
        "l=[]\r\n",
        "x=int(input(\"enter the limit : \"))\r\n",
        "for i in range (1,x+1):\r\n",
        "  x=input(\"enter the first name : \")\r\n",
        "  l.append(x)\r\n",
        "  count = x.count('a')\r\n",
        "  print(\"number of time a is present in name:\",count)\r\n",
        "\r\n"
      ],
      "execution_count": 13,
      "outputs": [
        {
          "output_type": "stream",
          "text": [
            "enter the limit : 3\n",
            "enter the first name : johns\n",
            "number of time a is present in name: 0\n",
            "enter the first name : alamban\n",
            "number of time a is present in name: 3\n",
            "enter the first name : kukucha\n",
            "number of time a is present in name: 1\n"
          ],
          "name": "stdout"
        }
      ]
    },
    {
      "cell_type": "code",
      "metadata": {
        "colab": {
          "base_uri": "https://localhost:8080/"
        },
        "id": "SqOCAxD6Wavy",
        "outputId": "936373cd-3716-456f-cd97-86a2624074d4"
      },
      "source": [
        "n=input(\"enter your house number : \")\r\n",
        "hname=input(\"enter your house name : \")\r\n",
        "s=input(\"enter your street name : \")\r\n",
        "t=input(\"enter your town/city : \")\r\n",
        "d=input(\"enter your district : \")\r\n",
        "state=input(\"enter your state : \")\r\n",
        "county=input(\"enter your county : \")\r\n",
        "pin=int(input(\"enter your postcode: \"))\r\n",
        "print(\"\\nAddress Details :\\n\" + \"\\nHousenumber :\",n,\"\\nHouse :\",hname,\"\\nStreet : \",s,\"\\nTown/City : \",t,\"District : \",d,\"\\nState : \",state,\"\\nCounty : \",county,\"\\nPostcode : \",pin)\r\n",
        "\r\n",
        "\r\n"
      ],
      "execution_count": 14,
      "outputs": [
        {
          "output_type": "stream",
          "text": [
            "enter your house number : 419\n",
            "enter your house name : mangalathil\n",
            "enter your street name : palayam\n",
            "enter your town/city : padinjattinkara\n",
            "enter your district : kottayam\n",
            "enter your state : kerala\n",
            "enter your county : india\n",
            "enter your postcode: 686571\n",
            "\n",
            "Address Details :\n",
            "\n",
            "Housenumber : 419 \n",
            "House : mangalathil \n",
            "Street :  palayam \n",
            "Town/City :  padinjattinkara District :  kottayam \n",
            "State :  kerala \n",
            "County :  india \n",
            "Postcode :  686571\n"
          ],
          "name": "stdout"
        }
      ]
    }
  ]
}